{
    "metadata": {
        "kernelspec": {
            "name": "SQL",
            "display_name": "SQL",
            "language": "sql"
        },
        "language_info": {
            "name": "sql",
            "version": ""
        }
    },
    "nbformat_minor": 2,
    "nbformat": 4,
    "cells": [
        {
            "cell_type": "code",
            "source": [
                "SELECT IIF(v.USERNEV IS NULL, 'Végösszeg', v.USERNEV),\r\n",
                "  \r\n",
                "  COUNT(DISTINCT szh.SZALLAS_ID) AS Foglalt_szálláshelyek_száma\r\n",
                "FROM foglalas f\r\n",
                "LEFT JOIN vendeg v ON v.USERNEV = f.UGYFEL_FK\r\n",
                "      LEFT JOIN Szoba sz ON f.SZOBA_FK = sz.SZOBA_ID\r\n",
                "      LEFT JOIN szallashely szh ON sz.SZALLAS_FK = szh.SZALLAS_ID  \r\n",
                "GROUP BY ROLLUP(v.USERNEV)\r\n",
                ""
            ],
            "metadata": {
                "azdata_cell_guid": "0ef33455-3353-4459-96db-a03ae30ae96c",
                "language": "sql"
            },
            "outputs": [
                {
                    "output_type": "display_data",
                    "data": {
                        "text/html": "(196 rows affected)"
                    },
                    "metadata": {}
                },
                {
                    "output_type": "display_data",
                    "data": {
                        "text/html": "Total execution time: 00:00:00.054"
                    },
                    "metadata": {}
                },
                {
                    "output_type": "execute_result",
                    "metadata": {},
                    "execution_count": 7,
                    "data": {
                        "application/vnd.dataresource+json": {
                            "schema": {
                                "fields": [
                                    {
                                        "name": "(No column name)"
                                    },
                                    {
                                        "name": "Foglalt_szálláshelyek_száma"
                                    }
                                ]
                            },
                            "data": [
                                {
                                    "(No column name)": "adam1",
                                    "Foglalt_szálláshelyek_száma": "2"
                                },
                                {
                                    "(No column name)": "adam3",
                                    "Foglalt_szálláshelyek_száma": "2"
                                },
                                {
                                    "(No column name)": "adam4",
                                    "Foglalt_szálláshelyek_száma": "5"
                                },
                                {
                                    "(No column name)": "agnes",
                                    "Foglalt_szálláshelyek_száma": "4"
                                },
                                {
                                    "(No column name)": "agnes3",
                                    "Foglalt_szálláshelyek_száma": "3"
                                },
                                {
                                    "(No column name)": "AGNESH",
                                    "Foglalt_szálláshelyek_száma": "5"
                                },
                                {
                                    "(No column name)": "AGNESK",
                                    "Foglalt_szálláshelyek_száma": "3"
                                },
                                {
                                    "(No column name)": "akos",
                                    "Foglalt_szálláshelyek_száma": "7"
                                },
                                {
                                    "(No column name)": "aladar",
                                    "Foglalt_szálláshelyek_száma": "3"
                                },
                                {
                                    "(No column name)": "alexandra",
                                    "Foglalt_szálláshelyek_száma": "6"
                                },
                                {
                                    "(No column name)": "andi",
                                    "Foglalt_szálláshelyek_száma": "4"
                                },
                                {
                                    "(No column name)": "andras2",
                                    "Foglalt_szálláshelyek_száma": "3"
                                },
                                {
                                    "(No column name)": "andras21",
                                    "Foglalt_szálláshelyek_száma": "6"
                                },
                                {
                                    "(No column name)": "andras3",
                                    "Foglalt_szálláshelyek_száma": "5"
                                },
                                {
                                    "(No column name)": "andras4",
                                    "Foglalt_szálláshelyek_száma": "2"
                                },
                                {
                                    "(No column name)": "andras41",
                                    "Foglalt_szálláshelyek_száma": "5"
                                },
                                {
                                    "(No column name)": "ANDRASE",
                                    "Foglalt_szálláshelyek_száma": "3"
                                },
                                {
                                    "(No column name)": "ANDRASN",
                                    "Foglalt_szálláshelyek_száma": "1"
                                },
                                {
                                    "(No column name)": "andrea",
                                    "Foglalt_szálláshelyek_száma": "4"
                                },
                                {
                                    "(No column name)": "andrea3",
                                    "Foglalt_szálláshelyek_száma": "1"
                                },
                                {
                                    "(No column name)": "andrea4",
                                    "Foglalt_szálláshelyek_száma": "2"
                                },
                                {
                                    "(No column name)": "ANDREAT",
                                    "Foglalt_szálláshelyek_száma": "2"
                                },
                                {
                                    "(No column name)": "anett3",
                                    "Foglalt_szálláshelyek_száma": "6"
                                },
                                {
                                    "(No column name)": "aniko",
                                    "Foglalt_szálláshelyek_száma": "3"
                                },
                                {
                                    "(No column name)": "aniko4",
                                    "Foglalt_szálláshelyek_száma": "3"
                                },
                                {
                                    "(No column name)": "ANIKOS",
                                    "Foglalt_szálláshelyek_száma": "6"
                                },
                                {
                                    "(No column name)": "anita",
                                    "Foglalt_szálláshelyek_száma": "4"
                                },
                                {
                                    "(No column name)": "annamaria1",
                                    "Foglalt_szálláshelyek_száma": "1"
                                },
                                {
                                    "(No column name)": "ANNAMARIAR",
                                    "Foglalt_szálláshelyek_száma": "5"
                                },
                                {
                                    "(No column name)": "aron2",
                                    "Foglalt_szálláshelyek_száma": "5"
                                },
                                {
                                    "(No column name)": "ARONK",
                                    "Foglalt_szálláshelyek_száma": "8"
                                },
                                {
                                    "(No column name)": "arpad2",
                                    "Foglalt_szálláshelyek_száma": "4"
                                },
                                {
                                    "(No column name)": "ARPADH",
                                    "Foglalt_szálláshelyek_száma": "3"
                                },
                                {
                                    "(No column name)": "ARPADM",
                                    "Foglalt_szálláshelyek_száma": "5"
                                },
                                {
                                    "(No column name)": "attila",
                                    "Foglalt_szálláshelyek_száma": "3"
                                },
                                {
                                    "(No column name)": "attila1",
                                    "Foglalt_szálláshelyek_száma": "5"
                                },
                                {
                                    "(No column name)": "attila4",
                                    "Foglalt_szálláshelyek_száma": "3"
                                },
                                {
                                    "(No column name)": "ATTILAO",
                                    "Foglalt_szálláshelyek_száma": "2"
                                },
                                {
                                    "(No column name)": "balazs1",
                                    "Foglalt_szálláshelyek_száma": "6"
                                },
                                {
                                    "(No column name)": "balazs2",
                                    "Foglalt_szálláshelyek_száma": "8"
                                },
                                {
                                    "(No column name)": "balazs3",
                                    "Foglalt_szálláshelyek_száma": "4"
                                },
                                {
                                    "(No column name)": "balint",
                                    "Foglalt_szálláshelyek_száma": "3"
                                },
                                {
                                    "(No column name)": "balint1",
                                    "Foglalt_szálláshelyek_száma": "9"
                                },
                                {
                                    "(No column name)": "balint2",
                                    "Foglalt_szálláshelyek_száma": "1"
                                },
                                {
                                    "(No column name)": "balu",
                                    "Foglalt_szálláshelyek_száma": "2"
                                },
                                {
                                    "(No column name)": "beata4",
                                    "Foglalt_szálláshelyek_száma": "4"
                                },
                                {
                                    "(No column name)": "BEATRIXK",
                                    "Foglalt_szálláshelyek_száma": "7"
                                },
                                {
                                    "(No column name)": "BEATRIXS",
                                    "Foglalt_szálláshelyek_száma": "5"
                                },
                                {
                                    "(No column name)": "BELAF",
                                    "Foglalt_szálláshelyek_száma": "3"
                                },
                                {
                                    "(No column name)": "bence",
                                    "Foglalt_szálláshelyek_száma": "6"
                                },
                                {
                                    "(No column name)": "BENCEB",
                                    "Foglalt_szálláshelyek_száma": "4"
                                },
                                {
                                    "(No column name)": "bernadett1",
                                    "Foglalt_szálláshelyek_száma": "5"
                                },
                                {
                                    "(No column name)": "bernadett2",
                                    "Foglalt_szálláshelyek_száma": "5"
                                },
                                {
                                    "(No column name)": "BERNADETTO",
                                    "Foglalt_szálláshelyek_száma": "6"
                                },
                                {
                                    "(No column name)": "bertalan",
                                    "Foglalt_szálláshelyek_száma": "4"
                                },
                                {
                                    "(No column name)": "brigitta",
                                    "Foglalt_szálláshelyek_száma": "4"
                                },
                                {
                                    "(No column name)": "brigitta3",
                                    "Foglalt_szálláshelyek_száma": "4"
                                },
                                {
                                    "(No column name)": "csongor3",
                                    "Foglalt_szálláshelyek_száma": "6"
                                },
                                {
                                    "(No column name)": "dani",
                                    "Foglalt_szálláshelyek_száma": "6"
                                },
                                {
                                    "(No column name)": "daniel",
                                    "Foglalt_szálláshelyek_száma": "5"
                                },
                                {
                                    "(No column name)": "daniel1",
                                    "Foglalt_szálláshelyek_száma": "5"
                                },
                                {
                                    "(No column name)": "david",
                                    "Foglalt_szálláshelyek_száma": "6"
                                },
                                {
                                    "(No column name)": "david1",
                                    "Foglalt_szálláshelyek_száma": "5"
                                },
                                {
                                    "(No column name)": "david4",
                                    "Foglalt_szálláshelyek_száma": "1"
                                },
                                {
                                    "(No column name)": "debora",
                                    "Foglalt_szálláshelyek_száma": "4"
                                },
                                {
                                    "(No column name)": "denes",
                                    "Foglalt_szálláshelyek_száma": "3"
                                },
                                {
                                    "(No column name)": "dora3",
                                    "Foglalt_szálláshelyek_száma": "4"
                                },
                                {
                                    "(No column name)": "edit",
                                    "Foglalt_szálláshelyek_száma": "5"
                                },
                                {
                                    "(No column name)": "emese",
                                    "Foglalt_szálláshelyek_száma": "3"
                                },
                                {
                                    "(No column name)": "eszter",
                                    "Foglalt_szálláshelyek_száma": "4"
                                },
                                {
                                    "(No column name)": "eszter2",
                                    "Foglalt_szálláshelyek_száma": "5"
                                },
                                {
                                    "(No column name)": "eszter4",
                                    "Foglalt_szálláshelyek_száma": "3"
                                },
                                {
                                    "(No column name)": "ESZTERE",
                                    "Foglalt_szálláshelyek_száma": "3"
                                },
                                {
                                    "(No column name)": "eva",
                                    "Foglalt_szálláshelyek_száma": "2"
                                },
                                {
                                    "(No column name)": "eva2",
                                    "Foglalt_szálláshelyek_száma": "3"
                                },
                                {
                                    "(No column name)": "EVAV",
                                    "Foglalt_szálláshelyek_száma": "4"
                                },
                                {
                                    "(No column name)": "ferenc1",
                                    "Foglalt_szálláshelyek_száma": "4"
                                },
                                {
                                    "(No column name)": "fruzsina4",
                                    "Foglalt_szálláshelyek_száma": "5"
                                },
                                {
                                    "(No column name)": "gabor1",
                                    "Foglalt_szálláshelyek_száma": "5"
                                },
                                {
                                    "(No column name)": "gabor4",
                                    "Foglalt_szálláshelyek_száma": "4"
                                },
                                {
                                    "(No column name)": "gabriella1",
                                    "Foglalt_szálláshelyek_száma": "4"
                                },
                                {
                                    "(No column name)": "gabriella10",
                                    "Foglalt_szálláshelyek_száma": "1"
                                },
                                {
                                    "(No column name)": "georgij",
                                    "Foglalt_szálláshelyek_száma": "4"
                                },
                                {
                                    "(No column name)": "gusztav",
                                    "Foglalt_szálláshelyek_száma": "5"
                                },
                                {
                                    "(No column name)": "GYONGYIK",
                                    "Foglalt_szálláshelyek_száma": "7"
                                },
                                {
                                    "(No column name)": "GYORGYO",
                                    "Foglalt_szálláshelyek_száma": "3"
                                },
                                {
                                    "(No column name)": "henrik3",
                                    "Foglalt_szálláshelyek_száma": "3"
                                },
                                {
                                    "(No column name)": "IBOLYAA",
                                    "Foglalt_szálláshelyek_száma": "2"
                                },
                                {
                                    "(No column name)": "ilona3",
                                    "Foglalt_szálláshelyek_száma": "2"
                                },
                                {
                                    "(No column name)": "imre",
                                    "Foglalt_szálláshelyek_száma": "2"
                                },
                                {
                                    "(No column name)": "imre1",
                                    "Foglalt_szálláshelyek_száma": "4"
                                },
                                {
                                    "(No column name)": "istvan",
                                    "Foglalt_szálláshelyek_száma": "3"
                                },
                                {
                                    "(No column name)": "istvan1",
                                    "Foglalt_szálláshelyek_száma": "4"
                                },
                                {
                                    "(No column name)": "ISTVANV",
                                    "Foglalt_szálláshelyek_száma": "2"
                                },
                                {
                                    "(No column name)": "janos3",
                                    "Foglalt_szálláshelyek_száma": "5"
                                },
                                {
                                    "(No column name)": "JANOSG",
                                    "Foglalt_szálláshelyek_száma": "3"
                                },
                                {
                                    "(No column name)": "JANOSP",
                                    "Foglalt_szálláshelyek_száma": "3"
                                },
                                {
                                    "(No column name)": "jozsef",
                                    "Foglalt_szálláshelyek_száma": "3"
                                },
                                {
                                    "(No column name)": "jozsef2",
                                    "Foglalt_szálláshelyek_száma": "3"
                                },
                                {
                                    "(No column name)": "JOZSEFG",
                                    "Foglalt_szálláshelyek_száma": "5"
                                },
                                {
                                    "(No column name)": "JUDITH",
                                    "Foglalt_szálláshelyek_száma": "3"
                                },
                                {
                                    "(No column name)": "julia",
                                    "Foglalt_szálláshelyek_száma": "2"
                                },
                                {
                                    "(No column name)": "julia4",
                                    "Foglalt_szálláshelyek_száma": "2"
                                },
                                {
                                    "(No column name)": "julianna4",
                                    "Foglalt_szálláshelyek_száma": "4"
                                },
                                {
                                    "(No column name)": "kata",
                                    "Foglalt_szálláshelyek_száma": "5"
                                },
                                {
                                    "(No column name)": "katalin",
                                    "Foglalt_szálláshelyek_száma": "6"
                                },
                                {
                                    "(No column name)": "katalin4",
                                    "Foglalt_szálláshelyek_száma": "3"
                                },
                                {
                                    "(No column name)": "kati",
                                    "Foglalt_szálláshelyek_száma": "4"
                                },
                                {
                                    "(No column name)": "katka",
                                    "Foglalt_szálláshelyek_száma": "4"
                                },
                                {
                                    "(No column name)": "klaudia2",
                                    "Foglalt_szálláshelyek_száma": "3"
                                },
                                {
                                    "(No column name)": "kornel4",
                                    "Foglalt_szálláshelyek_száma": "3"
                                },
                                {
                                    "(No column name)": "kristof4",
                                    "Foglalt_szálláshelyek_száma": "2"
                                },
                                {
                                    "(No column name)": "kriszti",
                                    "Foglalt_szálláshelyek_száma": "6"
                                },
                                {
                                    "(No column name)": "krisztian4",
                                    "Foglalt_szálláshelyek_száma": "6"
                                },
                                {
                                    "(No column name)": "KRISZTIANM",
                                    "Foglalt_szálláshelyek_száma": "6"
                                },
                                {
                                    "(No column name)": "krisztina",
                                    "Foglalt_szálláshelyek_száma": "5"
                                },
                                {
                                    "(No column name)": "krisztina1",
                                    "Foglalt_szálláshelyek_száma": "4"
                                },
                                {
                                    "(No column name)": "KRISZTINAG",
                                    "Foglalt_szálláshelyek_száma": "5"
                                },
                                {
                                    "(No column name)": "lajos",
                                    "Foglalt_szálláshelyek_száma": "3"
                                },
                                {
                                    "(No column name)": "lala",
                                    "Foglalt_szálláshelyek_száma": "5"
                                },
                                {
                                    "(No column name)": "laszlo1",
                                    "Foglalt_szálláshelyek_száma": "1"
                                },
                                {
                                    "(No column name)": "laszlo2",
                                    "Foglalt_szálláshelyek_száma": "5"
                                },
                                {
                                    "(No column name)": "LASZLOA",
                                    "Foglalt_szálláshelyek_száma": "3"
                                },
                                {
                                    "(No column name)": "LASZLON",
                                    "Foglalt_szálláshelyek_száma": "5"
                                },
                                {
                                    "(No column name)": "maria1",
                                    "Foglalt_szálláshelyek_száma": "6"
                                },
                                {
                                    "(No column name)": "mark",
                                    "Foglalt_szálláshelyek_száma": "3"
                                },
                                {
                                    "(No column name)": "MARKH",
                                    "Foglalt_szálláshelyek_száma": "2"
                                },
                                {
                                    "(No column name)": "marton",
                                    "Foglalt_szálláshelyek_száma": "6"
                                },
                                {
                                    "(No column name)": "MATEK",
                                    "Foglalt_szálláshelyek_száma": "3"
                                },
                                {
                                    "(No column name)": "matyas2",
                                    "Foglalt_szálláshelyek_száma": "2"
                                },
                                {
                                    "(No column name)": "MATYASS",
                                    "Foglalt_szálláshelyek_száma": "5"
                                },
                                {
                                    "(No column name)": "MIHALYJ",
                                    "Foglalt_szálláshelyek_száma": "4"
                                },
                                {
                                    "(No column name)": "miklos2",
                                    "Foglalt_szálláshelyek_száma": "3"
                                },
                                {
                                    "(No column name)": "MIKLOSB",
                                    "Foglalt_szálláshelyek_száma": "3"
                                },
                                {
                                    "(No column name)": "MONIKAM",
                                    "Foglalt_szálláshelyek_száma": "5"
                                },
                                {
                                    "(No column name)": "NANDORF",
                                    "Foglalt_szálláshelyek_száma": "2"
                                },
                                {
                                    "(No column name)": "nikolett3",
                                    "Foglalt_szálláshelyek_száma": "4"
                                },
                                {
                                    "(No column name)": "nikoletta4",
                                    "Foglalt_szálláshelyek_száma": "4"
                                },
                                {
                                    "(No column name)": "NIKOLETTAT",
                                    "Foglalt_szálláshelyek_száma": "4"
                                },
                                {
                                    "(No column name)": "norbert",
                                    "Foglalt_szálláshelyek_száma": "4"
                                },
                                {
                                    "(No column name)": "norbert2",
                                    "Foglalt_szálláshelyek_száma": "5"
                                },
                                {
                                    "(No column name)": "norbert4",
                                    "Foglalt_szálláshelyek_száma": "5"
                                },
                                {
                                    "(No column name)": "norbert5",
                                    "Foglalt_szálláshelyek_száma": "2"
                                },
                                {
                                    "(No column name)": "pal",
                                    "Foglalt_szálláshelyek_száma": "3"
                                },
                                {
                                    "(No column name)": "peter1",
                                    "Foglalt_szálláshelyek_száma": "3"
                                },
                                {
                                    "(No column name)": "peter2",
                                    "Foglalt_szálláshelyek_száma": "4"
                                },
                                {
                                    "(No column name)": "peter3",
                                    "Foglalt_szálláshelyek_száma": "3"
                                },
                                {
                                    "(No column name)": "peter4",
                                    "Foglalt_szálláshelyek_száma": "7"
                                },
                                {
                                    "(No column name)": "PETERB",
                                    "Foglalt_szálláshelyek_száma": "3"
                                },
                                {
                                    "(No column name)": "polla",
                                    "Foglalt_szálláshelyek_száma": "4"
                                },
                                {
                                    "(No column name)": "rajmond4",
                                    "Foglalt_szálláshelyek_száma": "4"
                                },
                                {
                                    "(No column name)": "reka4",
                                    "Foglalt_szálláshelyek_száma": "4"
                                },
                                {
                                    "(No column name)": "RENATAK",
                                    "Foglalt_szálláshelyek_száma": "5"
                                },
                                {
                                    "(No column name)": "RENATAS",
                                    "Foglalt_szálláshelyek_száma": "3"
                                },
                                {
                                    "(No column name)": "robert2",
                                    "Foglalt_szálláshelyek_száma": "4"
                                },
                                {
                                    "(No column name)": "ROBERTI",
                                    "Foglalt_szálláshelyek_száma": "4"
                                },
                                {
                                    "(No column name)": "ROBERTP",
                                    "Foglalt_szálláshelyek_száma": "2"
                                },
                                {
                                    "(No column name)": "roland",
                                    "Foglalt_szálláshelyek_száma": "3"
                                },
                                {
                                    "(No column name)": "roland1",
                                    "Foglalt_szálláshelyek_száma": "4"
                                },
                                {
                                    "(No column name)": "roza2",
                                    "Foglalt_szálláshelyek_száma": "3"
                                },
                                {
                                    "(No column name)": "sandor",
                                    "Foglalt_szálláshelyek_száma": "4"
                                },
                                {
                                    "(No column name)": "sandor3",
                                    "Foglalt_szálláshelyek_száma": "3"
                                },
                                {
                                    "(No column name)": "sandor4",
                                    "Foglalt_szálláshelyek_száma": "3"
                                },
                                {
                                    "(No column name)": "sara",
                                    "Foglalt_szálláshelyek_száma": "9"
                                },
                                {
                                    "(No column name)": "SEBASTIANF",
                                    "Foglalt_szálláshelyek_száma": "3"
                                },
                                {
                                    "(No column name)": "sebestyen",
                                    "Foglalt_szálláshelyek_száma": "2"
                                },
                                {
                                    "(No column name)": "szabolcs",
                                    "Foglalt_szálláshelyek_száma": "1"
                                },
                                {
                                    "(No column name)": "SZABOLCSM",
                                    "Foglalt_szálláshelyek_száma": "4"
                                },
                                {
                                    "(No column name)": "SZILARDS",
                                    "Foglalt_szálláshelyek_száma": "5"
                                },
                                {
                                    "(No column name)": "szilvia1",
                                    "Foglalt_szálláshelyek_száma": "6"
                                },
                                {
                                    "(No column name)": "tamara2",
                                    "Foglalt_szálláshelyek_száma": "2"
                                },
                                {
                                    "(No column name)": "tamas",
                                    "Foglalt_szálláshelyek_száma": "4"
                                },
                                {
                                    "(No column name)": "TAMASF",
                                    "Foglalt_szálláshelyek_száma": "6"
                                },
                                {
                                    "(No column name)": "tibor",
                                    "Foglalt_szálláshelyek_száma": "2"
                                },
                                {
                                    "(No column name)": "tibor2",
                                    "Foglalt_szálláshelyek_száma": "1"
                                },
                                {
                                    "(No column name)": "tihamer",
                                    "Foglalt_szálláshelyek_száma": "4"
                                },
                                {
                                    "(No column name)": "timea",
                                    "Foglalt_szálláshelyek_száma": "1"
                                },
                                {
                                    "(No column name)": "timea2",
                                    "Foglalt_szálláshelyek_száma": "5"
                                },
                                {
                                    "(No column name)": "tunde",
                                    "Foglalt_szálláshelyek_száma": "7"
                                },
                                {
                                    "(No column name)": "valentin",
                                    "Foglalt_szálláshelyek_száma": "5"
                                },
                                {
                                    "(No column name)": "veronika4",
                                    "Foglalt_szálláshelyek_száma": "4"
                                },
                                {
                                    "(No column name)": "VIKTORIAU",
                                    "Foglalt_szálláshelyek_száma": "4"
                                },
                                {
                                    "(No column name)": "VIKTORK",
                                    "Foglalt_szálláshelyek_száma": "2"
                                },
                                {
                                    "(No column name)": "vivien3",
                                    "Foglalt_szálláshelyek_száma": "5"
                                },
                                {
                                    "(No column name)": "zoltan",
                                    "Foglalt_szálláshelyek_száma": "2"
                                },
                                {
                                    "(No column name)": "zoltan4",
                                    "Foglalt_szálláshelyek_száma": "5"
                                },
                                {
                                    "(No column name)": "ZOLTANP",
                                    "Foglalt_szálláshelyek_száma": "3"
                                },
                                {
                                    "(No column name)": "ZOLTANT",
                                    "Foglalt_szálláshelyek_száma": "2"
                                },
                                {
                                    "(No column name)": "zsofi1",
                                    "Foglalt_szálláshelyek_száma": "2"
                                },
                                {
                                    "(No column name)": "zsolt1",
                                    "Foglalt_szálláshelyek_száma": "2"
                                },
                                {
                                    "(No column name)": "ZSOLTJ",
                                    "Foglalt_szálláshelyek_száma": "6"
                                },
                                {
                                    "(No column name)": "zsuzsa",
                                    "Foglalt_szálláshelyek_száma": "2"
                                },
                                {
                                    "(No column name)": "zsuzsa3",
                                    "Foglalt_szálláshelyek_száma": "4"
                                },
                                {
                                    "(No column name)": "zsuzsanna",
                                    "Foglalt_szálláshelyek_száma": "4"
                                },
                                {
                                    "(No column name)": "ZSUZSAV",
                                    "Foglalt_szálláshelyek_száma": "5"
                                },
                                {
                                    "(No column name)": "Végösszeg",
                                    "Foglalt_szálláshelyek_száma": "12"
                                }
                            ]
                        },
                        "text/html": [
                            "<table>",
                            "<tr><th>(No column name)</th><th>Foglalt_szálláshelyek_száma</th></tr>",
                            "<tr><td>adam1</td><td>2</td></tr>",
                            "<tr><td>adam3</td><td>2</td></tr>",
                            "<tr><td>adam4</td><td>5</td></tr>",
                            "<tr><td>agnes</td><td>4</td></tr>",
                            "<tr><td>agnes3</td><td>3</td></tr>",
                            "<tr><td>AGNESH</td><td>5</td></tr>",
                            "<tr><td>AGNESK</td><td>3</td></tr>",
                            "<tr><td>akos</td><td>7</td></tr>",
                            "<tr><td>aladar</td><td>3</td></tr>",
                            "<tr><td>alexandra</td><td>6</td></tr>",
                            "<tr><td>andi</td><td>4</td></tr>",
                            "<tr><td>andras2</td><td>3</td></tr>",
                            "<tr><td>andras21</td><td>6</td></tr>",
                            "<tr><td>andras3</td><td>5</td></tr>",
                            "<tr><td>andras4</td><td>2</td></tr>",
                            "<tr><td>andras41</td><td>5</td></tr>",
                            "<tr><td>ANDRASE</td><td>3</td></tr>",
                            "<tr><td>ANDRASN</td><td>1</td></tr>",
                            "<tr><td>andrea</td><td>4</td></tr>",
                            "<tr><td>andrea3</td><td>1</td></tr>",
                            "<tr><td>andrea4</td><td>2</td></tr>",
                            "<tr><td>ANDREAT</td><td>2</td></tr>",
                            "<tr><td>anett3</td><td>6</td></tr>",
                            "<tr><td>aniko</td><td>3</td></tr>",
                            "<tr><td>aniko4</td><td>3</td></tr>",
                            "<tr><td>ANIKOS</td><td>6</td></tr>",
                            "<tr><td>anita</td><td>4</td></tr>",
                            "<tr><td>annamaria1</td><td>1</td></tr>",
                            "<tr><td>ANNAMARIAR</td><td>5</td></tr>",
                            "<tr><td>aron2</td><td>5</td></tr>",
                            "<tr><td>ARONK</td><td>8</td></tr>",
                            "<tr><td>arpad2</td><td>4</td></tr>",
                            "<tr><td>ARPADH</td><td>3</td></tr>",
                            "<tr><td>ARPADM</td><td>5</td></tr>",
                            "<tr><td>attila</td><td>3</td></tr>",
                            "<tr><td>attila1</td><td>5</td></tr>",
                            "<tr><td>attila4</td><td>3</td></tr>",
                            "<tr><td>ATTILAO</td><td>2</td></tr>",
                            "<tr><td>balazs1</td><td>6</td></tr>",
                            "<tr><td>balazs2</td><td>8</td></tr>",
                            "<tr><td>balazs3</td><td>4</td></tr>",
                            "<tr><td>balint</td><td>3</td></tr>",
                            "<tr><td>balint1</td><td>9</td></tr>",
                            "<tr><td>balint2</td><td>1</td></tr>",
                            "<tr><td>balu</td><td>2</td></tr>",
                            "<tr><td>beata4</td><td>4</td></tr>",
                            "<tr><td>BEATRIXK</td><td>7</td></tr>",
                            "<tr><td>BEATRIXS</td><td>5</td></tr>",
                            "<tr><td>BELAF</td><td>3</td></tr>",
                            "<tr><td>bence</td><td>6</td></tr>",
                            "<tr><td>BENCEB</td><td>4</td></tr>",
                            "<tr><td>bernadett1</td><td>5</td></tr>",
                            "<tr><td>bernadett2</td><td>5</td></tr>",
                            "<tr><td>BERNADETTO</td><td>6</td></tr>",
                            "<tr><td>bertalan</td><td>4</td></tr>",
                            "<tr><td>brigitta</td><td>4</td></tr>",
                            "<tr><td>brigitta3</td><td>4</td></tr>",
                            "<tr><td>csongor3</td><td>6</td></tr>",
                            "<tr><td>dani</td><td>6</td></tr>",
                            "<tr><td>daniel</td><td>5</td></tr>",
                            "<tr><td>daniel1</td><td>5</td></tr>",
                            "<tr><td>david</td><td>6</td></tr>",
                            "<tr><td>david1</td><td>5</td></tr>",
                            "<tr><td>david4</td><td>1</td></tr>",
                            "<tr><td>debora</td><td>4</td></tr>",
                            "<tr><td>denes</td><td>3</td></tr>",
                            "<tr><td>dora3</td><td>4</td></tr>",
                            "<tr><td>edit</td><td>5</td></tr>",
                            "<tr><td>emese</td><td>3</td></tr>",
                            "<tr><td>eszter</td><td>4</td></tr>",
                            "<tr><td>eszter2</td><td>5</td></tr>",
                            "<tr><td>eszter4</td><td>3</td></tr>",
                            "<tr><td>ESZTERE</td><td>3</td></tr>",
                            "<tr><td>eva</td><td>2</td></tr>",
                            "<tr><td>eva2</td><td>3</td></tr>",
                            "<tr><td>EVAV</td><td>4</td></tr>",
                            "<tr><td>ferenc1</td><td>4</td></tr>",
                            "<tr><td>fruzsina4</td><td>5</td></tr>",
                            "<tr><td>gabor1</td><td>5</td></tr>",
                            "<tr><td>gabor4</td><td>4</td></tr>",
                            "<tr><td>gabriella1</td><td>4</td></tr>",
                            "<tr><td>gabriella10</td><td>1</td></tr>",
                            "<tr><td>georgij</td><td>4</td></tr>",
                            "<tr><td>gusztav</td><td>5</td></tr>",
                            "<tr><td>GYONGYIK</td><td>7</td></tr>",
                            "<tr><td>GYORGYO</td><td>3</td></tr>",
                            "<tr><td>henrik3</td><td>3</td></tr>",
                            "<tr><td>IBOLYAA</td><td>2</td></tr>",
                            "<tr><td>ilona3</td><td>2</td></tr>",
                            "<tr><td>imre</td><td>2</td></tr>",
                            "<tr><td>imre1</td><td>4</td></tr>",
                            "<tr><td>istvan</td><td>3</td></tr>",
                            "<tr><td>istvan1</td><td>4</td></tr>",
                            "<tr><td>ISTVANV</td><td>2</td></tr>",
                            "<tr><td>janos3</td><td>5</td></tr>",
                            "<tr><td>JANOSG</td><td>3</td></tr>",
                            "<tr><td>JANOSP</td><td>3</td></tr>",
                            "<tr><td>jozsef</td><td>3</td></tr>",
                            "<tr><td>jozsef2</td><td>3</td></tr>",
                            "<tr><td>JOZSEFG</td><td>5</td></tr>",
                            "<tr><td>JUDITH</td><td>3</td></tr>",
                            "<tr><td>julia</td><td>2</td></tr>",
                            "<tr><td>julia4</td><td>2</td></tr>",
                            "<tr><td>julianna4</td><td>4</td></tr>",
                            "<tr><td>kata</td><td>5</td></tr>",
                            "<tr><td>katalin</td><td>6</td></tr>",
                            "<tr><td>katalin4</td><td>3</td></tr>",
                            "<tr><td>kati</td><td>4</td></tr>",
                            "<tr><td>katka</td><td>4</td></tr>",
                            "<tr><td>klaudia2</td><td>3</td></tr>",
                            "<tr><td>kornel4</td><td>3</td></tr>",
                            "<tr><td>kristof4</td><td>2</td></tr>",
                            "<tr><td>kriszti</td><td>6</td></tr>",
                            "<tr><td>krisztian4</td><td>6</td></tr>",
                            "<tr><td>KRISZTIANM</td><td>6</td></tr>",
                            "<tr><td>krisztina</td><td>5</td></tr>",
                            "<tr><td>krisztina1</td><td>4</td></tr>",
                            "<tr><td>KRISZTINAG</td><td>5</td></tr>",
                            "<tr><td>lajos</td><td>3</td></tr>",
                            "<tr><td>lala</td><td>5</td></tr>",
                            "<tr><td>laszlo1</td><td>1</td></tr>",
                            "<tr><td>laszlo2</td><td>5</td></tr>",
                            "<tr><td>LASZLOA</td><td>3</td></tr>",
                            "<tr><td>LASZLON</td><td>5</td></tr>",
                            "<tr><td>maria1</td><td>6</td></tr>",
                            "<tr><td>mark</td><td>3</td></tr>",
                            "<tr><td>MARKH</td><td>2</td></tr>",
                            "<tr><td>marton</td><td>6</td></tr>",
                            "<tr><td>MATEK</td><td>3</td></tr>",
                            "<tr><td>matyas2</td><td>2</td></tr>",
                            "<tr><td>MATYASS</td><td>5</td></tr>",
                            "<tr><td>MIHALYJ</td><td>4</td></tr>",
                            "<tr><td>miklos2</td><td>3</td></tr>",
                            "<tr><td>MIKLOSB</td><td>3</td></tr>",
                            "<tr><td>MONIKAM</td><td>5</td></tr>",
                            "<tr><td>NANDORF</td><td>2</td></tr>",
                            "<tr><td>nikolett3</td><td>4</td></tr>",
                            "<tr><td>nikoletta4</td><td>4</td></tr>",
                            "<tr><td>NIKOLETTAT</td><td>4</td></tr>",
                            "<tr><td>norbert</td><td>4</td></tr>",
                            "<tr><td>norbert2</td><td>5</td></tr>",
                            "<tr><td>norbert4</td><td>5</td></tr>",
                            "<tr><td>norbert5</td><td>2</td></tr>",
                            "<tr><td>pal</td><td>3</td></tr>",
                            "<tr><td>peter1</td><td>3</td></tr>",
                            "<tr><td>peter2</td><td>4</td></tr>",
                            "<tr><td>peter3</td><td>3</td></tr>",
                            "<tr><td>peter4</td><td>7</td></tr>",
                            "<tr><td>PETERB</td><td>3</td></tr>",
                            "<tr><td>polla</td><td>4</td></tr>",
                            "<tr><td>rajmond4</td><td>4</td></tr>",
                            "<tr><td>reka4</td><td>4</td></tr>",
                            "<tr><td>RENATAK</td><td>5</td></tr>",
                            "<tr><td>RENATAS</td><td>3</td></tr>",
                            "<tr><td>robert2</td><td>4</td></tr>",
                            "<tr><td>ROBERTI</td><td>4</td></tr>",
                            "<tr><td>ROBERTP</td><td>2</td></tr>",
                            "<tr><td>roland</td><td>3</td></tr>",
                            "<tr><td>roland1</td><td>4</td></tr>",
                            "<tr><td>roza2</td><td>3</td></tr>",
                            "<tr><td>sandor</td><td>4</td></tr>",
                            "<tr><td>sandor3</td><td>3</td></tr>",
                            "<tr><td>sandor4</td><td>3</td></tr>",
                            "<tr><td>sara</td><td>9</td></tr>",
                            "<tr><td>SEBASTIANF</td><td>3</td></tr>",
                            "<tr><td>sebestyen</td><td>2</td></tr>",
                            "<tr><td>szabolcs</td><td>1</td></tr>",
                            "<tr><td>SZABOLCSM</td><td>4</td></tr>",
                            "<tr><td>SZILARDS</td><td>5</td></tr>",
                            "<tr><td>szilvia1</td><td>6</td></tr>",
                            "<tr><td>tamara2</td><td>2</td></tr>",
                            "<tr><td>tamas</td><td>4</td></tr>",
                            "<tr><td>TAMASF</td><td>6</td></tr>",
                            "<tr><td>tibor</td><td>2</td></tr>",
                            "<tr><td>tibor2</td><td>1</td></tr>",
                            "<tr><td>tihamer</td><td>4</td></tr>",
                            "<tr><td>timea</td><td>1</td></tr>",
                            "<tr><td>timea2</td><td>5</td></tr>",
                            "<tr><td>tunde</td><td>7</td></tr>",
                            "<tr><td>valentin</td><td>5</td></tr>",
                            "<tr><td>veronika4</td><td>4</td></tr>",
                            "<tr><td>VIKTORIAU</td><td>4</td></tr>",
                            "<tr><td>VIKTORK</td><td>2</td></tr>",
                            "<tr><td>vivien3</td><td>5</td></tr>",
                            "<tr><td>zoltan</td><td>2</td></tr>",
                            "<tr><td>zoltan4</td><td>5</td></tr>",
                            "<tr><td>ZOLTANP</td><td>3</td></tr>",
                            "<tr><td>ZOLTANT</td><td>2</td></tr>",
                            "<tr><td>zsofi1</td><td>2</td></tr>",
                            "<tr><td>zsolt1</td><td>2</td></tr>",
                            "<tr><td>ZSOLTJ</td><td>6</td></tr>",
                            "<tr><td>zsuzsa</td><td>2</td></tr>",
                            "<tr><td>zsuzsa3</td><td>4</td></tr>",
                            "<tr><td>zsuzsanna</td><td>4</td></tr>",
                            "<tr><td>ZSUZSAV</td><td>5</td></tr>",
                            "<tr><td>Végösszeg</td><td>12</td></tr>",
                            "</table>"
                        ]
                    }
                }
            ],
            "execution_count": 7
        }
    ]
}